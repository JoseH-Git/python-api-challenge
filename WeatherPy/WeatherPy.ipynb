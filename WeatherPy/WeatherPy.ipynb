{
 "cells": [
  {
   "cell_type": "markdown",
   "metadata": {},
   "source": [
    "# WeatherPy\n",
    "----\n",
    "\n",
    "#### Note\n",
    "* Instructions have been included for each segment. You do not have to follow them exactly, but they are included to help you think through the steps."
   ]
  },
  {
   "cell_type": "code",
   "execution_count": 190,
   "metadata": {
    "scrolled": true
   },
   "outputs": [],
   "source": [
    "# Dependencies and Setup\n",
    "import matplotlib.pyplot as plt\n",
    "import pandas as pd\n",
    "import numpy as np\n",
    "import requests\n",
    "import time\n",
    "from scipy.stats import linregress\n",
    "import scipy.stats as st\n",
    "\n",
    "\n",
    "# Import API key\n",
    "from api_keys import weather_api_key\n",
    "\n",
    "# Incorporated citipy to determine city based on latitude and longitude\n",
    "from citipy import citipy\n",
    "\n",
    "# Output File (CSV)\n",
    "output_data_file = \"output_data/cities.csv\"\n",
    "\n",
    "# Range of latitudes and longitudes\n",
    "lat_range = (-90, 90)\n",
    "lng_range = (-180, 180)"
   ]
  },
  {
   "cell_type": "markdown",
   "metadata": {},
   "source": [
    "## Generate Cities List"
   ]
  },
  {
   "cell_type": "code",
   "execution_count": 198,
   "metadata": {},
   "outputs": [
    {
     "data": {
      "text/plain": [
       "592"
      ]
     },
     "execution_count": 198,
     "metadata": {},
     "output_type": "execute_result"
    }
   ],
   "source": [
    "# List for holding lat_lngs and cities\n",
    "lat_lngs = []\n",
    "cities = []\n",
    "\n",
    "# Create a set of random lat and lng combinations\n",
    "lats = np.random.uniform(lat_range[0], lat_range[1], size=1500)\n",
    "lngs = np.random.uniform(lng_range[0], lng_range[1], size=1500)\n",
    "lat_lngs = zip(lats, lngs)\n",
    "\n",
    "# Identify nearest city for each lat, lng combination\n",
    "for lat_lng in lat_lngs:\n",
    "    city = citipy.nearest_city(lat_lng[0], lat_lng[1]).city_name\n",
    "    \n",
    "    # If the city is unique, then add it to a our cities list\n",
    "    if city not in cities:\n",
    "        cities.append(city)\n",
    "\n",
    "# Print the city count to confirm sufficient count\n",
    "len(cities)"
   ]
  },
  {
   "cell_type": "code",
   "execution_count": 199,
   "metadata": {},
   "outputs": [
    {
     "data": {
      "text/html": [
       "<div>\n",
       "<style scoped>\n",
       "    .dataframe tbody tr th:only-of-type {\n",
       "        vertical-align: middle;\n",
       "    }\n",
       "\n",
       "    .dataframe tbody tr th {\n",
       "        vertical-align: top;\n",
       "    }\n",
       "\n",
       "    .dataframe thead th {\n",
       "        text-align: right;\n",
       "    }\n",
       "</style>\n",
       "<table border=\"1\" class=\"dataframe\">\n",
       "  <thead>\n",
       "    <tr style=\"text-align: right;\">\n",
       "      <th></th>\n",
       "      <th>City</th>\n",
       "      <th>Lat</th>\n",
       "      <th>Lng</th>\n",
       "      <th>Max Temp</th>\n",
       "      <th>Humidity</th>\n",
       "      <th>Cloudiness</th>\n",
       "      <th>Wind Speed</th>\n",
       "      <th>Country</th>\n",
       "      <th>Date</th>\n",
       "    </tr>\n",
       "  </thead>\n",
       "  <tbody>\n",
       "    <tr>\n",
       "      <th>0</th>\n",
       "      <td>yellowknife</td>\n",
       "      <td></td>\n",
       "      <td></td>\n",
       "      <td></td>\n",
       "      <td></td>\n",
       "      <td></td>\n",
       "      <td></td>\n",
       "      <td></td>\n",
       "      <td></td>\n",
       "    </tr>\n",
       "    <tr>\n",
       "      <th>1</th>\n",
       "      <td>punta arenas</td>\n",
       "      <td></td>\n",
       "      <td></td>\n",
       "      <td></td>\n",
       "      <td></td>\n",
       "      <td></td>\n",
       "      <td></td>\n",
       "      <td></td>\n",
       "      <td></td>\n",
       "    </tr>\n",
       "    <tr>\n",
       "      <th>2</th>\n",
       "      <td>zhaoyuan</td>\n",
       "      <td></td>\n",
       "      <td></td>\n",
       "      <td></td>\n",
       "      <td></td>\n",
       "      <td></td>\n",
       "      <td></td>\n",
       "      <td></td>\n",
       "      <td></td>\n",
       "    </tr>\n",
       "    <tr>\n",
       "      <th>3</th>\n",
       "      <td>new norfolk</td>\n",
       "      <td></td>\n",
       "      <td></td>\n",
       "      <td></td>\n",
       "      <td></td>\n",
       "      <td></td>\n",
       "      <td></td>\n",
       "      <td></td>\n",
       "      <td></td>\n",
       "    </tr>\n",
       "    <tr>\n",
       "      <th>4</th>\n",
       "      <td>bengkulu</td>\n",
       "      <td></td>\n",
       "      <td></td>\n",
       "      <td></td>\n",
       "      <td></td>\n",
       "      <td></td>\n",
       "      <td></td>\n",
       "      <td></td>\n",
       "      <td></td>\n",
       "    </tr>\n",
       "  </tbody>\n",
       "</table>\n",
       "</div>"
      ],
      "text/plain": [
       "           City Lat Lng Max Temp Humidity Cloudiness Wind Speed Country Date\n",
       "0   yellowknife                                                             \n",
       "1  punta arenas                                                             \n",
       "2      zhaoyuan                                                             \n",
       "3   new norfolk                                                             \n",
       "4      bengkulu                                                             "
      ]
     },
     "execution_count": 199,
     "metadata": {},
     "output_type": "execute_result"
    }
   ],
   "source": [
    "cities_pd = pd.DataFrame()\n",
    "cities_pd['City'] = cities\n",
    "cities_pd['Lat'] = \"\"\n",
    "cities_pd['Lng'] = \"\"\n",
    "cities_pd['Max Temp'] = \"\"\n",
    "cities_pd['Humidity'] = \"\"\n",
    "cities_pd['Cloudiness'] = \"\"\n",
    "cities_pd['Wind Speed'] = \"\"\n",
    "cities_pd['Country'] = \"\"\n",
    "cities_pd['Date'] = \"\"\n",
    "cities_pd.head()"
   ]
  },
  {
   "cell_type": "markdown",
   "metadata": {},
   "source": [
    "### Perform API Calls\n",
    "* Perform a weather check on each city using a series of successive API calls.\n",
    "* Include a print log of each city as it'sbeing processed (with the city number and city name).\n"
   ]
  },
  {
   "cell_type": "code",
   "execution_count": 205,
   "metadata": {
    "scrolled": true
   },
   "outputs": [
    {
     "name": "stdout",
     "output_type": "stream",
     "text": [
      "City yellowknife completed\n",
      "City punta arenas completed\n",
      "City zhaoyuan completed\n",
      "City new norfolk completed\n",
      "City bengkulu completed\n",
      "City cherskiy completed\n",
      "City port blair completed\n",
      "City ribeira grande completed\n",
      "City souillac completed\n",
      "City ponta do sol completed\n",
      "City ushuaia completed\n",
      "City bethel completed\n",
      "City longyearbyen completed\n",
      "City hilo completed\n",
      "City blora completed\n",
      "City tricase completed\n",
      "City ponta delgada completed\n",
      "City abalak completed\n",
      "City mataura completed\n",
      "City not found. Skipping...\n",
      "City not found. Skipping...\n",
      "City bathsheba completed\n",
      "City bredasdorp completed\n",
      "City tuatapere completed\n",
      "City jiuquan completed\n",
      "City amapa completed\n",
      "City seoul completed\n",
      "City butaritari completed\n",
      "City turukhansk completed\n",
      "City port hedland completed\n",
      "City not found. Skipping...\n",
      "City chiavari completed\n",
      "City castro completed\n",
      "City not found. Skipping...\n",
      "City port alfred completed\n",
      "City saint george completed\n",
      "City lompoc completed\n",
      "City nanortalik completed\n",
      "City not found. Skipping...\n",
      "City batagay-alyta completed\n",
      "City atuona completed\n",
      "City thompson completed\n",
      "City not found. Skipping...\n",
      "City albany completed\n",
      "City jamestown completed\n",
      "City belaya gora completed\n",
      "City constantine completed\n",
      "City airai completed\n",
      "City alyangula completed\n",
      "City not found. Skipping...\n",
      "City daru completed\n",
      "City manyana completed\n",
      "City ancud completed\n",
      "City not found. Skipping...\n",
      "City cape town completed\n",
      "City hermanus completed\n",
      "City samarai completed\n",
      "City xining completed\n",
      "City not found. Skipping...\n",
      "City not found. Skipping...\n",
      "City rikitea completed\n",
      "City ormara completed\n",
      "City pangnirtung completed\n",
      "City saint-pierre completed\n",
      "City castrillon completed\n",
      "City tatawin completed\n",
      "City east london completed\n",
      "City sinnamary completed\n",
      "City talnakh completed\n",
      "City ahipara completed\n",
      "City vaini completed\n",
      "City narasaraopet completed\n",
      "City upernavik completed\n",
      "City bandarbeyla completed\n",
      "City bonthe completed\n",
      "City lopatino completed\n",
      "City lavrentiya completed\n",
      "City mayo completed\n",
      "City wuwei completed\n",
      "City walvis bay completed\n",
      "City kaitangata completed\n",
      "City esperance completed\n",
      "City pangoa completed\n",
      "City caravelas completed\n",
      "City arraial do cabo completed\n",
      "City coahuayana completed\n",
      "City kavieng completed\n",
      "City saedinenie completed\n",
      "City nioro completed\n",
      "City busselton completed\n",
      "City kapaa completed\n",
      "City adrar completed\n",
      "City qaanaaq completed\n",
      "City leningradskiy completed\n",
      "City kefamenanu completed\n",
      "City skjervoy completed\n",
      "City bluff completed\n",
      "City torbay completed\n",
      "City newport completed\n",
      "City mahebourg completed\n",
      "City rixheim completed\n",
      "City te anau completed\n",
      "City not found. Skipping...\n",
      "City not found. Skipping...\n",
      "City vanimo completed\n",
      "City mattru completed\n",
      "City kavaratti completed\n",
      "City college completed\n",
      "City russell completed\n",
      "City malanje completed\n",
      "City bac lieu completed\n",
      "City carnarvon completed\n",
      "City not found. Skipping...\n",
      "City ihosy completed\n",
      "City hobart completed\n",
      "City plaster rock completed\n",
      "City businga completed\n",
      "City lagoa completed\n",
      "City tucuman completed\n",
      "City riverton completed\n",
      "City marsaxlokk completed\n",
      "City mansa completed\n",
      "City chokurdakh completed\n",
      "City kahului completed\n",
      "City tabou completed\n",
      "City khorixas completed\n",
      "City andros town completed\n",
      "City port hardy completed\n",
      "City not found. Skipping...\n",
      "City iona completed\n",
      "City puerto escondido completed\n",
      "City not found. Skipping...\n",
      "City maraba completed\n",
      "City sibay completed\n",
      "City miandrivazo completed\n",
      "City namibe completed\n",
      "City colquechaca completed\n",
      "City kondinskoye completed\n",
      "City dikson completed\n",
      "City kloulklubed completed\n",
      "City verkhnyaya inta completed\n",
      "City saint-philippe completed\n",
      "City codrington completed\n",
      "City aripuana completed\n",
      "City enumclaw completed\n",
      "City ajdabiya completed\n",
      "City san carlos de bariloche completed\n",
      "City axim completed\n",
      "City las vegas completed\n",
      "City mar del plata completed\n",
      "City kerema completed\n",
      "City kaseda completed\n",
      "City berlevag completed\n",
      "City lebu completed\n",
      "City leh completed\n",
      "City basco completed\n",
      "City yulara completed\n",
      "City grindavik completed\n",
      "City aklavik completed\n",
      "City lahad datu completed\n",
      "City buala completed\n",
      "City plouzane completed\n",
      "City mitsamiouli completed\n",
      "City poum completed\n",
      "City sao filipe completed\n",
      "City tiksi completed\n",
      "City richards bay completed\n",
      "City america dourada completed\n",
      "City nouadhibou completed\n",
      "City chicama completed\n",
      "City barrow completed\n",
      "City mikuni completed\n",
      "City roald completed\n",
      "City provideniya completed\n",
      "City vestmanna completed\n",
      "City micheweni completed\n",
      "City mahon completed\n",
      "City not found. Skipping...\n",
      "City goderich completed\n",
      "City aloha completed\n",
      "City anahuac completed\n",
      "City tuktoyaktuk completed\n",
      "City olinda completed\n",
      "City not found. Skipping...\n",
      "City omaruru completed\n",
      "City georgetown completed\n",
      "City nianzishan completed\n",
      "City mao completed\n",
      "City fairbanks completed\n",
      "City puerto ayora completed\n",
      "City beyneu completed\n",
      "City konongo completed\n",
      "City katsuura completed\n",
      "City pervomayskiy completed\n",
      "City aden completed\n",
      "City thap than completed\n",
      "City sorong completed\n",
      "City bretten completed\n",
      "City awbari completed\n",
      "City stephenville completed\n",
      "City lahij completed\n",
      "City puerto maldonado completed\n",
      "City not found. Skipping...\n",
      "City rio grande completed\n",
      "City chuy completed\n",
      "City klaksvik completed\n",
      "City taber completed\n",
      "City tromso completed\n",
      "City jalu completed\n",
      "City kieta completed\n",
      "City port elizabeth completed\n",
      "City kidal completed\n",
      "City isangel completed\n",
      "City avarua completed\n",
      "City nikolskoye completed\n",
      "City aksu completed\n",
      "City howell completed\n",
      "City cedar falls completed\n",
      "City praia completed\n",
      "City blagoyevo completed\n",
      "City cabo san lucas completed\n",
      "City rocha completed\n",
      "City baykit completed\n",
      "City not found. Skipping...\n",
      "City not found. Skipping...\n",
      "City escalerillas completed\n",
      "City quatre cocos completed\n",
      "City nagybajom completed\n",
      "City puerto cabezas completed\n",
      "City ostrovnoy completed\n",
      "City kathmandu completed\n",
      "City sechura completed\n",
      "City not found. Skipping...\n",
      "City krasnoselkup completed\n",
      "City stornoway completed\n",
      "City acapulco completed\n",
      "City not found. Skipping...\n",
      "City not found. Skipping...\n",
      "City rawson completed\n",
      "City tolaga bay completed\n",
      "City beringovskiy completed\n",
      "City oktyabrskiy completed\n",
      "City vytegra completed\n",
      "City vao completed\n",
      "City kiama completed\n",
      "City urumqi completed\n",
      "City deputatskiy completed\n",
      "City not found. Skipping...\n",
      "City teguise completed\n",
      "City bilma completed\n",
      "City havoysund completed\n",
      "City faanui completed\n",
      "City fallon completed\n",
      "City caledon completed\n",
      "City unai completed\n",
      "City ascension completed\n",
      "City vardo completed\n",
      "City phayao completed\n",
      "City bayir completed\n",
      "City esfarayen completed\n",
      "City ko samui completed\n",
      "City margate completed\n",
      "City asyut completed\n",
      "City yeysk completed\n",
      "City hasaki completed\n",
      "City jieznas completed\n",
      "City redlands completed\n",
      "City husavik completed\n",
      "City not found. Skipping...\n",
      "City porto santo completed\n",
      "City kununurra completed\n",
      "City mount isa completed\n",
      "City sampit completed\n",
      "City paamiut completed\n",
      "City pevek completed\n",
      "City sao jose da coroa grande completed\n",
      "City benguela completed\n",
      "City victoria completed\n",
      "City mugur-aksy completed\n",
      "City santa rosa completed\n",
      "City lata completed\n",
      "City not found. Skipping...\n",
      "City san patricio completed\n",
      "City praia da vitoria completed\n",
      "City geraldton completed\n",
      "City bonfim completed\n",
      "City dubbo completed\n",
      "City hamilton completed\n",
      "City kodiak completed\n",
      "City san quintin completed\n",
      "City hualmay completed\n",
      "City jiazi completed\n",
      "City valente completed\n",
      "City cidreira completed\n",
      "City vila franca do campo completed\n",
      "City necochea completed\n",
      "City hambantota completed\n",
      "City nome completed\n",
      "City lucapa completed\n",
      "City tasiilaq completed\n",
      "City bama completed\n",
      "City clyde river completed\n",
      "City whitehorse completed\n",
      "City udaipura completed\n",
      "City yudong completed\n",
      "City haines junction completed\n",
      "City not found. Skipping...\n",
      "City tokonou completed\n",
      "City nouakchott completed\n",
      "City montrose completed\n",
      "City broken hill completed\n",
      "City kroya completed\n",
      "City constitucion completed\n",
      "City camana completed\n",
      "City severo-kurilsk completed\n",
      "City ponta grossa completed\n",
      "City tilichiki completed\n",
      "City qinhuangdao completed\n",
      "City shimoda completed\n",
      "City polloc completed\n",
      "City long beach completed\n",
      "City morlaix completed\n",
      "City mweka completed\n",
      "City melfi completed\n",
      "City coxim completed\n",
      "City mareeba completed\n",
      "City sao joao da barra completed\n",
      "City kruisfontein completed\n",
      "City lubango completed\n",
      "City yelizovo completed\n",
      "City muzhi completed\n",
      "City ucluelet completed\n",
      "City valdosta completed\n",
      "City san angelo completed\n"
     ]
    },
    {
     "name": "stdout",
     "output_type": "stream",
     "text": [
      "City mount gambier completed\n",
      "City norman wells completed\n",
      "City tura completed\n",
      "City bara completed\n",
      "City sur completed\n",
      "City pinillos completed\n",
      "City ilulissat completed\n",
      "City dyatkovo completed\n",
      "City fortuna completed\n",
      "City wewak completed\n",
      "City not found. Skipping...\n",
      "City bow island completed\n",
      "City bacolod completed\n",
      "City anton lizardo completed\n",
      "City nizhneangarsk completed\n",
      "City marystown completed\n",
      "City ugoofaaru completed\n",
      "City portland completed\n",
      "City labuan completed\n",
      "City not found. Skipping...\n",
      "City saldanha completed\n",
      "City el alto completed\n",
      "City chateau-gontier completed\n",
      "City avera completed\n",
      "City sorrento completed\n",
      "City san cristobal completed\n",
      "City not found. Skipping...\n",
      "City bolbec completed\n",
      "City faya completed\n",
      "City brae completed\n",
      "City hailar completed\n",
      "City ibra completed\n",
      "City hue completed\n",
      "City saskylakh completed\n",
      "City baghdad completed\n",
      "City kushiro completed\n",
      "City gavle completed\n",
      "City abu zabad completed\n",
      "City mombaca completed\n",
      "City not found. Skipping...\n",
      "City garut completed\n",
      "City port moresby completed\n",
      "City ende completed\n",
      "City ayagoz completed\n",
      "City ocos completed\n",
      "City not found. Skipping...\n",
      "City juliaca completed\n",
      "City ola completed\n",
      "City valparaiso completed\n",
      "City uglovka completed\n",
      "City suining completed\n",
      "City not found. Skipping...\n",
      "City bambous virieux completed\n",
      "City not found. Skipping...\n",
      "City kabare completed\n",
      "City sendafa completed\n",
      "City sakaiminato completed\n",
      "City not found. Skipping...\n",
      "City korla completed\n",
      "City sitka completed\n",
      "City daman completed\n",
      "City alofi completed\n",
      "City not found. Skipping...\n",
      "City manado completed\n",
      "City tabory completed\n",
      "City venlo completed\n",
      "City tingo maria completed\n",
      "City prince rupert completed\n",
      "City taormina completed\n",
      "City not found. Skipping...\n",
      "City beloha completed\n",
      "City liliani completed\n",
      "City gra liyia completed\n",
      "City mehamn completed\n",
      "City not found. Skipping...\n",
      "City rafai completed\n",
      "City port macquarie completed\n",
      "City latung completed\n",
      "City banyo completed\n",
      "City nanakuli completed\n",
      "City bonavista completed\n",
      "City clearlake completed\n",
      "City rantauprapat completed\n",
      "City khatanga completed\n",
      "City ust-nera completed\n",
      "City cermik completed\n",
      "City manta completed\n",
      "City vorobyevka completed\n",
      "City roma completed\n",
      "City orlik completed\n",
      "City pisco completed\n",
      "City santiago completed\n",
      "City vanavara completed\n",
      "City broome completed\n",
      "City shu completed\n",
      "City tahta completed\n",
      "City not found. Skipping...\n",
      "City bay roberts completed\n",
      "City benton harbor completed\n",
      "City bereda completed\n",
      "City atar completed\n",
      "City cayenne completed\n",
      "City manadhoo completed\n",
      "City turayf completed\n",
      "City jaumave completed\n",
      "City rudnogorsk completed\n",
      "City kaduqli completed\n",
      "City tanout completed\n",
      "City lufilufi completed\n",
      "City lilongwe completed\n",
      "City kota kinabalu completed\n",
      "City guerrero negro completed\n",
      "City skibbereen completed\n",
      "City hadejia completed\n",
      "City ulladulla completed\n",
      "City not found. Skipping...\n",
      "City rivera completed\n",
      "City sao miguel do araguaia completed\n",
      "City ishigaki completed\n",
      "City doha completed\n",
      "City payson completed\n",
      "City gat completed\n",
      "City abasolo completed\n",
      "City abha completed\n",
      "City sabha completed\n",
      "City marsabit completed\n",
      "City pictou completed\n",
      "City batagay completed\n",
      "City bahir dar completed\n",
      "City kutum completed\n",
      "City balkanabat completed\n",
      "City mabaruma completed\n",
      "City ust-kut completed\n",
      "City nabire completed\n",
      "City quimper completed\n",
      "City chapais completed\n",
      "City hithadhoo completed\n",
      "City catamarca completed\n",
      "City hovd completed\n",
      "City comodoro rivadavia completed\n",
      "City rognan completed\n",
      "City aswan completed\n",
      "City northam completed\n",
      "City gizo completed\n",
      "City tomatlan completed\n",
      "City saint albans completed\n",
      "City zhoucheng completed\n",
      "City quchan completed\n",
      "City abu dhabi completed\n",
      "City qui nhon completed\n",
      "City imbituba completed\n",
      "City padang completed\n",
      "City talaya completed\n",
      "City yokadouma completed\n",
      "City novomykolayivka completed\n",
      "City dhidhdhoo completed\n",
      "City the pas completed\n",
      "City okmulgee completed\n",
      "City flinders completed\n",
      "City fayaoue completed\n",
      "City galich completed\n",
      "City not found. Skipping...\n",
      "City luderitz completed\n",
      "City morehead completed\n",
      "City colquiri completed\n",
      "City kamaishi completed\n",
      "City ghotki completed\n",
      "City bubaque completed\n",
      "City szczecinek completed\n",
      "City matadi completed\n",
      "City tashtyp completed\n",
      "City karatau completed\n",
      "City not found. Skipping...\n",
      "City sioux lookout completed\n",
      "City pasighat completed\n",
      "City ayorou completed\n",
      "City senneterre completed\n",
      "City komsomolskiy completed\n",
      "City anloga completed\n",
      "City bad kissingen completed\n",
      "City mwense completed\n",
      "City asau completed\n",
      "City timmins completed\n",
      "City mayya completed\n",
      "City guangyuan completed\n",
      "City iskele completed\n",
      "City not found. Skipping...\n",
      "City haag completed\n",
      "City kandrian completed\n",
      "City maniitsoq completed\n",
      "City not found. Skipping...\n",
      "City aanekoski completed\n",
      "City not found. Skipping...\n",
      "City saint-augustin completed\n",
      "City horten completed\n",
      "City la crosse completed\n",
      "City alekseyevka completed\n",
      "City henties bay completed\n",
      "City kulhudhuffushi completed\n",
      "City goure completed\n",
      "City sao gabriel da cachoeira completed\n",
      "City selma completed\n",
      "City novopavlovka completed\n",
      "City high level completed\n",
      "City fujin completed\n",
      "City banjar completed\n",
      "City juneau completed\n",
      "City kudahuvadhoo completed\n",
      "City hofn completed\n",
      "City progreso completed\n",
      "City kampot completed\n",
      "City beauraing completed\n",
      "City rajshahi completed\n",
      "City disna completed\n",
      "City mende completed\n",
      "City pelym completed\n",
      "City dabola completed\n",
      "City kropotkin completed\n",
      "City molteno completed\n",
      "City narsaq completed\n",
      "City sarkand completed\n",
      "City belyy yar completed\n",
      "City polazna completed\n",
      "City ust-uda completed\n",
      "City not found. Skipping...\n",
      "City vila velha completed\n",
      "City zhigansk completed\n",
      "City bandundu completed\n",
      "City nhulunbuy completed\n",
      "City kazachka completed\n",
      "City albert town completed\n",
      "City iranshahr completed\n",
      "City araouane completed\n",
      "City mirnyy completed\n",
      "City celestun completed\n",
      "City damaturu completed\n",
      "City cabedelo completed\n",
      "City iqaluit completed\n",
      "City leninsk-kuznetskiy completed\n",
      "City safaga completed\n",
      "City sola completed\n",
      "City hokitika completed\n",
      "City shimanovsk completed\n",
      "City harrisonburg completed\n",
      "City shuangyang completed\n",
      "City granja completed\n",
      "City pinhao completed\n",
      "City francistown completed\n",
      "City lazaro cardenas completed\n",
      "City shirgaon completed\n",
      "City maridi completed\n",
      "City bayonet point completed\n",
      "City appingedam completed\n",
      "City eyl completed\n",
      "City sindor completed\n",
      "City kindu completed\n",
      "City eenhana completed\n",
      "City oistins completed\n"
     ]
    }
   ],
   "source": [
    "# set up lists to hold reponse info\n",
    "\n",
    "city = [] \n",
    "lat = []\n",
    "lng = []\n",
    "max_temp = []\n",
    "humidity = []\n",
    "cloudiness= []\n",
    "wind_speed = []\n",
    "country = []\n",
    "date = []\n",
    "\n",
    "# Save config information.\n",
    "url = \"http://api.openweathermap.org/data/2.5/weather?\"\n",
    "units = \"metric\"\n",
    "api_key =  weather_api_key\n",
    "\n",
    "# Build partial query URL\n",
    "query_url = f\"{url}appid={api_key}&units={units}&q=\"\n",
    "\n",
    "# Loop through the list of cities and perform a request for data on each\n",
    "for city in cities:\n",
    "    \n",
    "    try:\n",
    "    \n",
    "        response = requests.get(query_url + city).json()\n",
    "        lat.append(response['coord']['lat'])\n",
    "        lng.append(response['coord']['lon'])\n",
    "        max_temp.append(response['main']['temp_max'])\n",
    "        humidity.append(response['main']['humidity'])\n",
    "        cloudiness.append(response['clouds']['all'])\n",
    "        wind_speed.append(response['wind']['speed'])\n",
    "        country.append(response['sys']['country'])\n",
    "        date.append(response['dt'])\n",
    "\n",
    "        print(f'City ' + city + ' completed' )\n",
    "        \n",
    "    except(KeyError, IndexError):\n",
    "        \n",
    "        print(\"City not found. Skipping...\")"
   ]
  },
  {
   "cell_type": "markdown",
   "metadata": {},
   "source": [
    "### Convert Raw Data to DataFrame\n",
    "* Export the city data into a .csv.\n",
    "* Display the DataFrame"
   ]
  },
  {
   "cell_type": "code",
   "execution_count": 206,
   "metadata": {},
   "outputs": [],
   "source": [
    "# Visualize to confirm airport data appears\n",
    "cities_dict = ({\"City\":cities,\n",
    "    \"Lat\": lat, \n",
    "    \"Lng\": lng,\n",
    "    \"Max Temp\": max_temp,\n",
    "    \"Humidity\" : humidity,\n",
    "    \"Cloudiness\": cloudiness,\n",
    "    \"Wind Speed\": wind_speed,\n",
    "    \"Country\": country, \n",
    "    \"Date\": date\n",
    "    })\n",
    "\n",
    "cities_dict_df = pd.DataFrame.from_dict(dict, orient='index').transpose()\n",
    "dict_df.head()\n",
    "\n",
    "# Save Data to csv\n",
    "cities_dict_df.to_csv(\"WeatherPy.csv\")"
   ]
  },
  {
   "cell_type": "markdown",
   "metadata": {},
   "source": [
    "## Inspect the data and remove the cities where the humidity > 100%.\n",
    "----\n",
    "Skip this step if there are no cities that have humidity > 100%. "
   ]
  },
  {
   "cell_type": "code",
   "execution_count": 207,
   "metadata": {},
   "outputs": [
    {
     "data": {
      "text/plain": [
       "100"
      ]
     },
     "execution_count": 207,
     "metadata": {},
     "output_type": "execute_result"
    }
   ],
   "source": [
    "cities_dict_df[\"Humidity\"].max()"
   ]
  },
  {
   "cell_type": "code",
   "execution_count": 211,
   "metadata": {},
   "outputs": [
    {
     "data": {
      "text/html": [
       "<div>\n",
       "<style scoped>\n",
       "    .dataframe tbody tr th:only-of-type {\n",
       "        vertical-align: middle;\n",
       "    }\n",
       "\n",
       "    .dataframe tbody tr th {\n",
       "        vertical-align: top;\n",
       "    }\n",
       "\n",
       "    .dataframe thead th {\n",
       "        text-align: right;\n",
       "    }\n",
       "</style>\n",
       "<table border=\"1\" class=\"dataframe\">\n",
       "  <thead>\n",
       "    <tr style=\"text-align: right;\">\n",
       "      <th></th>\n",
       "      <th>City</th>\n",
       "      <th>Lat</th>\n",
       "      <th>Lng</th>\n",
       "      <th>Max Temp</th>\n",
       "      <th>Humidity</th>\n",
       "      <th>Cloudiness</th>\n",
       "      <th>Wind Speed</th>\n",
       "      <th>Country</th>\n",
       "      <th>Date</th>\n",
       "    </tr>\n",
       "  </thead>\n",
       "  <tbody>\n",
       "    <tr>\n",
       "      <th>31</th>\n",
       "      <td>busselton</td>\n",
       "      <td>66.1451</td>\n",
       "      <td>-65.7125</td>\n",
       "      <td>-1</td>\n",
       "      <td>100</td>\n",
       "      <td>90</td>\n",
       "      <td>4.12</td>\n",
       "      <td>CA</td>\n",
       "      <td>1619734757</td>\n",
       "    </tr>\n",
       "    <tr>\n",
       "      <th>59</th>\n",
       "      <td>port hueneme</td>\n",
       "      <td>-21.2</td>\n",
       "      <td>-175.2</td>\n",
       "      <td>24</td>\n",
       "      <td>100</td>\n",
       "      <td>90</td>\n",
       "      <td>3.09</td>\n",
       "      <td>TO</td>\n",
       "      <td>1619734768</td>\n",
       "    </tr>\n",
       "    <tr>\n",
       "      <th>78</th>\n",
       "      <td>carupano</td>\n",
       "      <td>42.097</td>\n",
       "      <td>-79.2353</td>\n",
       "      <td>11.67</td>\n",
       "      <td>100</td>\n",
       "      <td>90</td>\n",
       "      <td>3.09</td>\n",
       "      <td>US</td>\n",
       "      <td>1619734777</td>\n",
       "    </tr>\n",
       "    <tr>\n",
       "      <th>92</th>\n",
       "      <td>avarua</td>\n",
       "      <td>46.6166</td>\n",
       "      <td>10.7002</td>\n",
       "      <td>13</td>\n",
       "      <td>100</td>\n",
       "      <td>90</td>\n",
       "      <td>0.73</td>\n",
       "      <td>IT</td>\n",
       "      <td>1619734783</td>\n",
       "    </tr>\n",
       "    <tr>\n",
       "      <th>137</th>\n",
       "      <td>uzhur</td>\n",
       "      <td>-42.8794</td>\n",
       "      <td>147.329</td>\n",
       "      <td>12.22</td>\n",
       "      <td>100</td>\n",
       "      <td>75</td>\n",
       "      <td>4.12</td>\n",
       "      <td>AU</td>\n",
       "      <td>1619734753</td>\n",
       "    </tr>\n",
       "  </tbody>\n",
       "</table>\n",
       "</div>"
      ],
      "text/plain": [
       "             City      Lat      Lng Max Temp Humidity Cloudiness Wind Speed  \\\n",
       "31      busselton  66.1451 -65.7125       -1      100         90       4.12   \n",
       "59   port hueneme    -21.2   -175.2       24      100         90       3.09   \n",
       "78       carupano   42.097 -79.2353    11.67      100         90       3.09   \n",
       "92         avarua  46.6166  10.7002       13      100         90       0.73   \n",
       "137         uzhur -42.8794  147.329    12.22      100         75       4.12   \n",
       "\n",
       "    Country        Date  \n",
       "31       CA  1619734757  \n",
       "59       TO  1619734768  \n",
       "78       US  1619734777  \n",
       "92       IT  1619734783  \n",
       "137      AU  1619734753  "
      ]
     },
     "execution_count": 211,
     "metadata": {},
     "output_type": "execute_result"
    }
   ],
   "source": [
    "#  Get the indices of cities that have humidity over 100%.\n",
    "\n",
    "hum_cities = cities_dict_df.loc[cities_dict_df['Humidity'] >= 100,:]\n",
    "hum_cities.head()"
   ]
  },
  {
   "cell_type": "code",
   "execution_count": 214,
   "metadata": {},
   "outputs": [
    {
     "name": "stdout",
     "output_type": "stream",
     "text": [
      "No City over 100% Humidity\n"
     ]
    }
   ],
   "source": [
    "# Make a new DataFrame equal to the city data to drop all humidity outliers by index.\n",
    "# Passing \"inplace=False\" will make a copy of the city_data DataFrame, which we call \"clean_city_data\".\n",
    "print(\"No City over 100% Humidity\")"
   ]
  },
  {
   "cell_type": "markdown",
   "metadata": {},
   "source": [
    "## Plotting the Data\n",
    "* Use proper labeling of the plots using plot titles (including date of analysis) and axes labels.\n",
    "* Save the plotted figures as .pngs."
   ]
  },
  {
   "cell_type": "markdown",
   "metadata": {},
   "source": [
    "## Latitude vs. Temperature Plot"
   ]
  },
  {
   "cell_type": "code",
   "execution_count": 215,
   "metadata": {
    "scrolled": true
   },
   "outputs": [
    {
     "data": {
      "image/png": "[encoded data removed]",
      "text/plain": [
       "<Figure size 432x288 with 1 Axes>"
      ]
     },
     "metadata": {
      "needs_background": "light"
     },
     "output_type": "display_data"
    }
   ],
   "source": [
    "marker_size=15\n",
    "plt.scatter(cities_dict_df['Lat'],cities_dict_df['Max Temp'],s=75, color=\"blue\")\n",
    "plt.title(\"Latitude vs. Temperature Plot\")\n",
    "plt.xlabel(\"Latitud\")\n",
    "plt.ylabel(\"Temperature\")\n",
    "\n",
    "\n",
    "plt.savefig(\"../Images/Latitude vs. Temperature Plot.png\", bbox_inches = \"tight\")\n",
    "plt.show()"
   ]
  },
  {
   "cell_type": "markdown",
   "metadata": {},
   "source": [
    "## Latitude vs. Humidity Plot"
   ]
  },
  {
   "cell_type": "code",
   "execution_count": 217,
   "metadata": {},
   "outputs": [
    {
     "data": {
      "image/png": "[encoded data removed]",
      "text/plain": [
       "<Figure size 432x288 with 1 Axes>"
      ]
     },
     "metadata": {
      "needs_background": "light"
     },
     "output_type": "display_data"
    }
   ],
   "source": [
    "marker_size=15\n",
    "plt.scatter(cities_dict_df['Lat'],cities_dict_df['Humidity'],s=75, color=\"green\")\n",
    "plt.title(\"Latitude vs. Humidity Plot\")\n",
    "plt.xlabel(\"Latitud\")\n",
    "plt.ylabel(\"Humidity (%)\")\n",
    "\n",
    "\n",
    "plt.savefig(\"../Images/Latitude vs. Humidity Plot.png\", bbox_inches = \"tight\")\n",
    "plt.show()"
   ]
  },
  {
   "cell_type": "markdown",
   "metadata": {},
   "source": [
    "## Latitude vs. Cloudiness Plot"
   ]
  },
  {
   "cell_type": "code",
   "execution_count": 218,
   "metadata": {},
   "outputs": [
    {
     "data": {
      "image/png": "[encoded data removed]",
      "text/plain": [
       "<Figure size 432x288 with 1 Axes>"
      ]
     },
     "metadata": {
      "needs_background": "light"
     },
     "output_type": "display_data"
    }
   ],
   "source": [
    "marker_size=15\n",
    "plt.scatter(cities_dict_df['Lat'],cities_dict_df['Cloudiness'],s=75, color=\"black\")\n",
    "plt.title(\"Latitude vs. Cloudiness Plot\")\n",
    "plt.xlabel(\"Latitud\")\n",
    "plt.ylabel(\"Cloudliness (%)\")\n",
    "\n",
    "\n",
    "plt.savefig(\"../Images/Latitude vs. Cloudliness.png\", bbox_inches = \"tight\")\n",
    "plt.show()"
   ]
  },
  {
   "cell_type": "markdown",
   "metadata": {},
   "source": [
    "## Latitude vs. Wind Speed Plot"
   ]
  },
  {
   "cell_type": "code",
   "execution_count": 220,
   "metadata": {},
   "outputs": [
    {
     "data": {
      "image/png": "[encoded data removed]",
      "text/plain": [
       "<Figure size 432x288 with 1 Axes>"
      ]
     },
     "metadata": {
      "needs_background": "light"
     },
     "output_type": "display_data"
    }
   ],
   "source": [
    "marker_size=15\n",
    "plt.scatter(cities_dict_df['Lat'],cities_dict_df['Wind Speed'],s=75, color=\"red\")\n",
    "plt.title(\"Latitude vs. Win Speed Plot\")\n",
    "plt.xlabel(\"Latitud\")\n",
    "plt.ylabel(\"Wind Speed (mph)\")\n",
    "\n",
    "\n",
    "plt.savefig(\"../Images/Latitude vs. Wind Speed Plot.png\", bbox_inches = \"tight\")\n",
    "plt.show()"
   ]
  },
  {
   "cell_type": "markdown",
   "metadata": {},
   "source": [
    "## Linear Regression"
   ]
  },
  {
   "cell_type": "code",
   "execution_count": 221,
   "metadata": {},
   "outputs": [],
   "source": [
    "cities_dict_df[\"Lat\"] = cities_dict_df[\"Lat\"].astype(float)\n",
    "cities_dict_df[\"Lng\"] = cities_dict_df[\"Lng\"].astype(float)\n",
    "cities_dict_df[\"Max Temp\"] = cities_dict_df[\"Max Temp\"].astype(float)\n",
    "cities_dict_df[\"Humidity\"] = cities_dict_df[\"Humidity\"].astype(float)\n",
    "cities_dict_df[\"Cloudiness\"] = cities_dict_df[\"Cloudiness\"].astype(float)\n",
    "cities_dict_df[\"Wind Speed\"] = cities_dict_df[\"Wind Speed\"].astype(float)"
   ]
  },
  {
   "cell_type": "markdown",
   "metadata": {},
   "source": [
    "####  Northern Hemisphere - Max Temp vs. Latitude Linear Regression"
   ]
  },
  {
   "cell_type": "code",
   "execution_count": 222,
   "metadata": {
    "scrolled": true
   },
   "outputs": [
    {
     "data": {
      "text/html": [
       "<div>\n",
       "<style scoped>\n",
       "    .dataframe tbody tr th:only-of-type {\n",
       "        vertical-align: middle;\n",
       "    }\n",
       "\n",
       "    .dataframe tbody tr th {\n",
       "        vertical-align: top;\n",
       "    }\n",
       "\n",
       "    .dataframe thead th {\n",
       "        text-align: right;\n",
       "    }\n",
       "</style>\n",
       "<table border=\"1\" class=\"dataframe\">\n",
       "  <thead>\n",
       "    <tr style=\"text-align: right;\">\n",
       "      <th></th>\n",
       "      <th>City</th>\n",
       "      <th>Lat</th>\n",
       "      <th>Lng</th>\n",
       "      <th>Max Temp</th>\n",
       "      <th>Humidity</th>\n",
       "      <th>Cloudiness</th>\n",
       "      <th>Wind Speed</th>\n",
       "      <th>Country</th>\n",
       "      <th>Date</th>\n",
       "    </tr>\n",
       "  </thead>\n",
       "  <tbody>\n",
       "    <tr>\n",
       "      <th>0</th>\n",
       "      <td>fortuna</td>\n",
       "      <td>40.5982</td>\n",
       "      <td>-124.1573</td>\n",
       "      <td>18.89</td>\n",
       "      <td>72.0</td>\n",
       "      <td>1.0</td>\n",
       "      <td>6.17</td>\n",
       "      <td>US</td>\n",
       "      <td>1619734744</td>\n",
       "    </tr>\n",
       "    <tr>\n",
       "      <th>5</th>\n",
       "      <td>abonnema</td>\n",
       "      <td>4.7084</td>\n",
       "      <td>6.7931</td>\n",
       "      <td>27.00</td>\n",
       "      <td>89.0</td>\n",
       "      <td>40.0</td>\n",
       "      <td>2.06</td>\n",
       "      <td>NG</td>\n",
       "      <td>1619734746</td>\n",
       "    </tr>\n",
       "    <tr>\n",
       "      <th>6</th>\n",
       "      <td>grand centre</td>\n",
       "      <td>69.4541</td>\n",
       "      <td>-133.0374</td>\n",
       "      <td>-3.00</td>\n",
       "      <td>63.0</td>\n",
       "      <td>20.0</td>\n",
       "      <td>7.20</td>\n",
       "      <td>CA</td>\n",
       "      <td>1619734747</td>\n",
       "    </tr>\n",
       "    <tr>\n",
       "      <th>7</th>\n",
       "      <td>tuktoyaktuk</td>\n",
       "      <td>48.6814</td>\n",
       "      <td>71.6433</td>\n",
       "      <td>11.69</td>\n",
       "      <td>69.0</td>\n",
       "      <td>100.0</td>\n",
       "      <td>5.96</td>\n",
       "      <td>KZ</td>\n",
       "      <td>1619734747</td>\n",
       "    </tr>\n",
       "    <tr>\n",
       "      <th>9</th>\n",
       "      <td>punta arenas</td>\n",
       "      <td>42.6001</td>\n",
       "      <td>-73.9662</td>\n",
       "      <td>13.89</td>\n",
       "      <td>89.0</td>\n",
       "      <td>100.0</td>\n",
       "      <td>1.69</td>\n",
       "      <td>US</td>\n",
       "      <td>1619734729</td>\n",
       "    </tr>\n",
       "  </tbody>\n",
       "</table>\n",
       "</div>"
      ],
      "text/plain": [
       "           City      Lat       Lng  Max Temp  Humidity  Cloudiness  \\\n",
       "0       fortuna  40.5982 -124.1573     18.89      72.0         1.0   \n",
       "5      abonnema   4.7084    6.7931     27.00      89.0        40.0   \n",
       "6  grand centre  69.4541 -133.0374     -3.00      63.0        20.0   \n",
       "7   tuktoyaktuk  48.6814   71.6433     11.69      69.0       100.0   \n",
       "9  punta arenas  42.6001  -73.9662     13.89      89.0       100.0   \n",
       "\n",
       "   Wind Speed Country        Date  \n",
       "0        6.17      US  1619734744  \n",
       "5        2.06      NG  1619734746  \n",
       "6        7.20      CA  1619734747  \n",
       "7        5.96      KZ  1619734747  \n",
       "9        1.69      US  1619734729  "
      ]
     },
     "execution_count": 222,
     "metadata": {},
     "output_type": "execute_result"
    }
   ],
   "source": [
    "northern_df = cities_dict_df.loc[cities_dict_df['Lat'] > 0,:]\n",
    "northern_df.head()"
   ]
  },
  {
   "cell_type": "code",
   "execution_count": 223,
   "metadata": {},
   "outputs": [
    {
     "data": {
      "text/plain": [
       "City           object\n",
       "Lat           float64\n",
       "Lng           float64\n",
       "Max Temp      float64\n",
       "Humidity      float64\n",
       "Cloudiness    float64\n",
       "Wind Speed    float64\n",
       "Country        object\n",
       "Date           object\n",
       "dtype: object"
      ]
     },
     "execution_count": 223,
     "metadata": {},
     "output_type": "execute_result"
    }
   ],
   "source": [
    "northern_df.dtypes"
   ]
  },
  {
   "cell_type": "code",
   "execution_count": 242,
   "metadata": {},
   "outputs": [
    {
     "name": "stdout",
     "output_type": "stream",
     "text": [
      "The correlation between Latitude and Max Temp is -0.89\n",
      "The r-squared is: 0.788833549667221\n"
     ]
    },
    {
     "data": {
      "image/png": "[encoded data removed]",
      "text/plain": [
       "<Figure size 432x288 with 1 Axes>"
      ]
     },
     "metadata": {
      "needs_background": "light"
     },
     "output_type": "display_data"
    }
   ],
   "source": [
    "correlation=round(st.pearsonr(northern_df[\"Lat\"], northern_df[\"Max Temp\"])[0],2)\n",
    "print(f\"The correlation between Latitude and Max Temp is {correlation}\")\n",
    "\n",
    "x_values = northern_df[\"Lat\"]\n",
    "y_values = northern_df[\"Max Temp\"]\n",
    "\n",
    "(slope, intercept, rvalue, pvalue, stderr) = linregress(x_values, y_values)\n",
    "regress_values = x_values * slope + intercept\n",
    "\n",
    "line_eq = \"y = \" + str(round(slope,2)) + \"x + \" + str(round(intercept,2))\n",
    "\n",
    "plt.scatter(x_values,y_values)\n",
    "plt.plot(x_values,regress_values,\"r-\")\n",
    "plt.annotate(line_eq,(6,10),fontsize=14,color=\"red\")\n",
    "plt.title(\"Northern Hemisphere - Max Temp vs. Latitude Linear Regression\")\n",
    "plt.xlabel(\"Latitude\")\n",
    "plt.ylabel(\"Max Temp\")\n",
    "\n",
    "print(f\"The r-squared is: {rvalue**2}\")\n",
    "plt.savefig(\"Images/Northern Hemisphere - Max Temp vs. Latitude Linear Regression.png\", bbox_inches = \"tight\")\n",
    "plt.show()"
   ]
  },
  {
   "cell_type": "markdown",
   "metadata": {},
   "source": [
    "####  Southern Hemisphere - Max Temp vs. Latitude Linear Regression"
   ]
  },
  {
   "cell_type": "code",
   "execution_count": 225,
   "metadata": {},
   "outputs": [
    {
     "data": {
      "text/html": [
       "<div>\n",
       "<style scoped>\n",
       "    .dataframe tbody tr th:only-of-type {\n",
       "        vertical-align: middle;\n",
       "    }\n",
       "\n",
       "    .dataframe tbody tr th {\n",
       "        vertical-align: top;\n",
       "    }\n",
       "\n",
       "    .dataframe thead th {\n",
       "        text-align: right;\n",
       "    }\n",
       "</style>\n",
       "<table border=\"1\" class=\"dataframe\">\n",
       "  <thead>\n",
       "    <tr style=\"text-align: right;\">\n",
       "      <th></th>\n",
       "      <th>City</th>\n",
       "      <th>Lat</th>\n",
       "      <th>Lng</th>\n",
       "      <th>Max Temp</th>\n",
       "      <th>Humidity</th>\n",
       "      <th>Cloudiness</th>\n",
       "      <th>Wind Speed</th>\n",
       "      <th>Country</th>\n",
       "      <th>Date</th>\n",
       "    </tr>\n",
       "  </thead>\n",
       "  <tbody>\n",
       "    <tr>\n",
       "      <th>1</th>\n",
       "      <td>geraldton</td>\n",
       "      <td>-28.7667</td>\n",
       "      <td>114.6000</td>\n",
       "      <td>18.00</td>\n",
       "      <td>82.0</td>\n",
       "      <td>90.0</td>\n",
       "      <td>5.66</td>\n",
       "      <td>AU</td>\n",
       "      <td>1619734744</td>\n",
       "    </tr>\n",
       "    <tr>\n",
       "      <th>2</th>\n",
       "      <td>puerto ayora</td>\n",
       "      <td>-0.7393</td>\n",
       "      <td>-90.3518</td>\n",
       "      <td>27.00</td>\n",
       "      <td>78.0</td>\n",
       "      <td>20.0</td>\n",
       "      <td>7.20</td>\n",
       "      <td>EC</td>\n",
       "      <td>1619734745</td>\n",
       "    </tr>\n",
       "    <tr>\n",
       "      <th>3</th>\n",
       "      <td>saint-philippe</td>\n",
       "      <td>-21.3585</td>\n",
       "      <td>55.7679</td>\n",
       "      <td>25.00</td>\n",
       "      <td>83.0</td>\n",
       "      <td>75.0</td>\n",
       "      <td>7.20</td>\n",
       "      <td>RE</td>\n",
       "      <td>1619734745</td>\n",
       "    </tr>\n",
       "    <tr>\n",
       "      <th>4</th>\n",
       "      <td>castro</td>\n",
       "      <td>-24.7911</td>\n",
       "      <td>-50.0119</td>\n",
       "      <td>12.65</td>\n",
       "      <td>82.0</td>\n",
       "      <td>9.0</td>\n",
       "      <td>2.81</td>\n",
       "      <td>BR</td>\n",
       "      <td>1619734746</td>\n",
       "    </tr>\n",
       "    <tr>\n",
       "      <th>8</th>\n",
       "      <td>atasu</td>\n",
       "      <td>-53.1500</td>\n",
       "      <td>-70.9167</td>\n",
       "      <td>5.00</td>\n",
       "      <td>87.0</td>\n",
       "      <td>90.0</td>\n",
       "      <td>4.12</td>\n",
       "      <td>CL</td>\n",
       "      <td>1619734748</td>\n",
       "    </tr>\n",
       "  </tbody>\n",
       "</table>\n",
       "</div>"
      ],
      "text/plain": [
       "             City      Lat       Lng  Max Temp  Humidity  Cloudiness  \\\n",
       "1       geraldton -28.7667  114.6000     18.00      82.0        90.0   \n",
       "2    puerto ayora  -0.7393  -90.3518     27.00      78.0        20.0   \n",
       "3  saint-philippe -21.3585   55.7679     25.00      83.0        75.0   \n",
       "4          castro -24.7911  -50.0119     12.65      82.0         9.0   \n",
       "8           atasu -53.1500  -70.9167      5.00      87.0        90.0   \n",
       "\n",
       "   Wind Speed Country        Date  \n",
       "1        5.66      AU  1619734744  \n",
       "2        7.20      EC  1619734745  \n",
       "3        7.20      RE  1619734745  \n",
       "4        2.81      BR  1619734746  \n",
       "8        4.12      CL  1619734748  "
      ]
     },
     "execution_count": 225,
     "metadata": {},
     "output_type": "execute_result"
    }
   ],
   "source": [
    "southern_df = cities_dict_df.loc[cities_dict_df['Lat'] < 0,:]\n",
    "southern_df.head()"
   ]
  },
  {
   "cell_type": "code",
   "execution_count": 226,
   "metadata": {},
   "outputs": [
    {
     "data": {
      "text/plain": [
       "City           object\n",
       "Lat           float64\n",
       "Lng           float64\n",
       "Max Temp      float64\n",
       "Humidity      float64\n",
       "Cloudiness    float64\n",
       "Wind Speed    float64\n",
       "Country        object\n",
       "Date           object\n",
       "dtype: object"
      ]
     },
     "execution_count": 226,
     "metadata": {},
     "output_type": "execute_result"
    }
   ],
   "source": [
    "southern_df.dtypes"
   ]
  },
  {
   "cell_type": "code",
   "execution_count": 241,
   "metadata": {},
   "outputs": [
    {
     "name": "stdout",
     "output_type": "stream",
     "text": [
      "The correlation between Latitude and Max Temp is 0.72\n",
      "The r-squared is: 0.5127301151281647\n"
     ]
    },
    {
     "data": {
      "image/png": "[encoded data removed]",
      "text/plain": [
       "<Figure size 432x288 with 1 Axes>"
      ]
     },
     "metadata": {
      "needs_background": "light"
     },
     "output_type": "display_data"
    }
   ],
   "source": [
    "correlation=round(st.pearsonr(southern_df[\"Lat\"], southern_df[\"Max Temp\"])[0],2)\n",
    "print(f\"The correlation between Latitude and Max Temp is {correlation}\")\n",
    "\n",
    "x_values = southern_df[\"Lat\"]\n",
    "y_values = southern_df[\"Max Temp\"]\n",
    "\n",
    "(slope, intercept, rvalue, pvalue, stderr) = linregress(x_values, y_values)\n",
    "regress_values = x_values * slope + intercept\n",
    "\n",
    "line_eq = \"y = \" + str(round(slope,2)) + \"x + \" + str(round(intercept,2))\n",
    "\n",
    "plt.scatter(x_values,y_values)\n",
    "plt.plot(x_values,regress_values,\"r-\")\n",
    "plt.annotate(line_eq,(6,10),fontsize=14,color=\"red\")\n",
    "plt.title(\"Southern Hemisphere - Max Temp vs. Latitude Linear Regression\")\n",
    "plt.xlabel(\"Latitude\")\n",
    "plt.ylabel(\"Max Temp\")\n",
    "\n",
    "print(f\"The r-squared is: {rvalue**2}\")\n",
    "plt.savefig(\"Images/Southern Hemisphere - Max Temp vs. Latitude Linear Regression.png\", bbox_inches = \"tight\")\n",
    "plt.show()"
   ]
  },
  {
   "cell_type": "markdown",
   "metadata": {},
   "source": [
    "####  Northern Hemisphere - Humidity (%) vs. Latitude Linear Regression"
   ]
  },
  {
   "cell_type": "code",
   "execution_count": 240,
   "metadata": {},
   "outputs": [
    {
     "name": "stdout",
     "output_type": "stream",
     "text": [
      "The correlation between Latitude and Humidity(%) is 0.11\n",
      "The r-squared is: 0.012399640536340335\n"
     ]
    },
    {
     "data": {
      "image/png": "[encoded data removed]",
      "text/plain": [
       "<Figure size 432x288 with 1 Axes>"
      ]
     },
     "metadata": {
      "needs_background": "light"
     },
     "output_type": "display_data"
    }
   ],
   "source": [
    "correlation=round(st.pearsonr(northern_df[\"Lat\"], northern_df[\"Humidity\"])[0],2)\n",
    "print(f\"The correlation between Latitude and Humidity(%) is {correlation}\")\n",
    "\n",
    "x_values = northern_df[\"Lat\"]\n",
    "y_values = northern_df[\"Humidity\"]\n",
    "\n",
    "(slope, intercept, rvalue, pvalue, stderr) = linregress(x_values, y_values)\n",
    "regress_values = x_values * slope + intercept\n",
    "\n",
    "line_eq = \"y = \" + str(round(slope,2)) + \"x + \" + str(round(intercept,2))\n",
    "\n",
    "plt.scatter(x_values,y_values)\n",
    "plt.plot(x_values,regress_values,\"r-\")\n",
    "plt.annotate(line_eq,(6,10),fontsize=14,color=\"red\")\n",
    "plt.title(\"Northern Hemisphere - Humidity (%) vs. Latitude Linear Regression\")\n",
    "plt.xlabel(\"Latitude\")\n",
    "plt.ylabel(\"Humidity (%)\")\n",
    "\n",
    "print(f\"The r-squared is: {rvalue**2}\")\n",
    "plt.savefig(\"Images/Northern Hemisphere - Humidity (%) vs. Latitude Linear Regression.png\", bbox_inches = \"tight\")\n",
    "plt.show()"
   ]
  },
  {
   "cell_type": "markdown",
   "metadata": {},
   "source": [
    "####  Southern Hemisphere - Humidity (%) vs. Latitude Linear Regression"
   ]
  },
  {
   "cell_type": "code",
   "execution_count": 239,
   "metadata": {},
   "outputs": [
    {
     "name": "stdout",
     "output_type": "stream",
     "text": [
      "The correlation between Latitude and Humidity(%) is 0.12\n",
      "The r-squared is: 0.015544291156671603\n"
     ]
    },
    {
     "data": {
      "image/png": "[encoded data removed]",
      "text/plain": [
       "<Figure size 432x288 with 1 Axes>"
      ]
     },
     "metadata": {
      "needs_background": "light"
     },
     "output_type": "display_data"
    }
   ],
   "source": [
    "correlation=round(st.pearsonr(southern_df[\"Lat\"], southern_df[\"Humidity\"])[0],2)\n",
    "print(f\"The correlation between Latitude and Humidity(%) is {correlation}\")\n",
    "\n",
    "x_values = southern_df[\"Lat\"]\n",
    "y_values = southern_df[\"Humidity\"]\n",
    "\n",
    "(slope, intercept, rvalue, pvalue, stderr) = linregress(x_values, y_values)\n",
    "regress_values = x_values * slope + intercept\n",
    "\n",
    "line_eq = \"y = \" + str(round(slope,2)) + \"x + \" + str(round(intercept,2))\n",
    "\n",
    "plt.scatter(x_values,y_values)\n",
    "plt.plot(x_values,regress_values,\"r-\")\n",
    "plt.annotate(line_eq,(6,10),fontsize=14,color=\"red\")\n",
    "plt.title(\"Southern Hemisphere - Humidity (%) vs. Latitude Linear Regression\")\n",
    "plt.xlabel(\"Latitude\")\n",
    "plt.ylabel(\"Humidity (%)\")\n",
    "\n",
    "print(f\"The r-squared is: {rvalue**2}\")\n",
    "plt.savefig(\"Images/Southern Hemisphere - Humidity (%) vs. Latitude Linear Regression.png\", bbox_inches = \"tight\")\n",
    "plt.show()"
   ]
  },
  {
   "cell_type": "markdown",
   "metadata": {},
   "source": [
    "####  Northern Hemisphere - Cloudiness (%) vs. Latitude Linear Regression"
   ]
  },
  {
   "cell_type": "code",
   "execution_count": 238,
   "metadata": {},
   "outputs": [
    {
     "name": "stdout",
     "output_type": "stream",
     "text": [
      "The correlation between Latitude and Cloudiness(%) is 0.18\n",
      "The r-squared is: 0.033829478977449076\n"
     ]
    },
    {
     "data": {
      "image/png": "[encoded data removed]",
      "text/plain": [
       "<Figure size 432x288 with 1 Axes>"
      ]
     },
     "metadata": {
      "needs_background": "light"
     },
     "output_type": "display_data"
    }
   ],
   "source": [
    "correlation=round(st.pearsonr(northern_df[\"Lat\"], northern_df[\"Cloudiness\"])[0],2)\n",
    "print(f\"The correlation between Latitude and Cloudiness(%) is {correlation}\")\n",
    "\n",
    "x_values = northern_df[\"Lat\"]\n",
    "y_values = northern_df[\"Cloudiness\"]\n",
    "\n",
    "(slope, intercept, rvalue, pvalue, stderr) = linregress(x_values, y_values)\n",
    "regress_values = x_values * slope + intercept\n",
    "\n",
    "line_eq = \"y = \" + str(round(slope,2)) + \"x + \" + str(round(intercept,2))\n",
    "\n",
    "plt.scatter(x_values,y_values)\n",
    "plt.plot(x_values,regress_values,\"r-\")\n",
    "plt.annotate(line_eq,(6,10),fontsize=14,color=\"red\")\n",
    "plt.title(\"Northern Hemisphere - Cloudiness (%) vs. Latitude Linear Regression\")\n",
    "plt.xlabel(\"Latitude\")\n",
    "plt.ylabel(\"Cloudiness (%)\")\n",
    "\n",
    "print(f\"The r-squared is: {rvalue**2}\")\n",
    "plt.savefig(\"Images/Northern Hemisphere - Cloudiness (%) vs. Latitude Linear Regression.png\", bbox_inches = \"tight\")\n",
    "plt.show()"
   ]
  },
  {
   "cell_type": "markdown",
   "metadata": {},
   "source": [
    "####  Southern Hemisphere - Cloudiness (%) vs. Latitude Linear Regression"
   ]
  },
  {
   "cell_type": "code",
   "execution_count": 237,
   "metadata": {},
   "outputs": [
    {
     "name": "stdout",
     "output_type": "stream",
     "text": [
      "The correlation between Latitude and Cloudiness(%) is 0.16\n",
      "The r-squared is: 0.024362985683656142\n"
     ]
    },
    {
     "data": {
      "image/png": "[encoded data removed]",
      "text/plain": [
       "<Figure size 432x288 with 1 Axes>"
      ]
     },
     "metadata": {
      "needs_background": "light"
     },
     "output_type": "display_data"
    }
   ],
   "source": [
    "correlation=round(st.pearsonr(southern_df[\"Lat\"], southern_df[\"Cloudiness\"])[0],2)\n",
    "print(f\"The correlation between Latitude and Cloudiness(%) is {correlation}\")\n",
    "\n",
    "x_values = southern_df[\"Lat\"]\n",
    "y_values = southern_df[\"Cloudiness\"]\n",
    "\n",
    "(slope, intercept, rvalue, pvalue, stderr) = linregress(x_values, y_values)\n",
    "regress_values = x_values * slope + intercept\n",
    "\n",
    "line_eq = \"y = \" + str(round(slope,2)) + \"x + \" + str(round(intercept,2))\n",
    "\n",
    "plt.scatter(x_values,y_values)\n",
    "plt.plot(x_values,regress_values,\"r-\")\n",
    "plt.annotate(line_eq,(6,10),fontsize=14,color=\"red\")\n",
    "plt.title(\"Southern Hemisphere - Cloudiness (%) vs. Latitude Linear Regression\")\n",
    "plt.xlabel(\"Latitude\")\n",
    "plt.ylabel(\"Cloudiness (%)\")\n",
    "\n",
    "print(f\"The r-squared is: {rvalue**2}\")\n",
    "plt.savefig(\"Images/Southern Hemisphere - Cloudiness (%) vs. Latitude Linear Regression.png\", bbox_inches = \"tight\")\n",
    "plt.show()"
   ]
  },
  {
   "cell_type": "markdown",
   "metadata": {},
   "source": [
    "####  Northern Hemisphere - Wind Speed (mph) vs. Latitude Linear Regression"
   ]
  },
  {
   "cell_type": "code",
   "execution_count": 236,
   "metadata": {},
   "outputs": [
    {
     "name": "stdout",
     "output_type": "stream",
     "text": [
      "The correlation between Latitude and Wind Speed(mph) is 0.07\n",
      "The r-squared is: 0.004673497132121191\n"
     ]
    },
    {
     "data": {
      "image/png": "[encoded data removed]",
      "text/plain": [
       "<Figure size 432x288 with 1 Axes>"
      ]
     },
     "metadata": {
      "needs_background": "light"
     },
     "output_type": "display_data"
    }
   ],
   "source": [
    "correlation=round(st.pearsonr(northern_df[\"Lat\"], northern_df[\"Wind Speed\"])[0],2)\n",
    "print(f\"The correlation between Latitude and Wind Speed(mph) is {correlation}\")\n",
    "\n",
    "x_values = northern_df[\"Lat\"]\n",
    "y_values = northern_df[\"Wind Speed\"]\n",
    "\n",
    "(slope, intercept, rvalue, pvalue, stderr) = linregress(x_values, y_values)\n",
    "regress_values = x_values * slope + intercept\n",
    "\n",
    "line_eq = \"y = \" + str(round(slope,2)) + \"x + \" + str(round(intercept,2))\n",
    "\n",
    "plt.scatter(x_values,y_values)\n",
    "plt.plot(x_values,regress_values,\"r-\")\n",
    "plt.annotate(line_eq,(6,10),fontsize=14,color=\"red\")\n",
    "plt.title(\"Northern Hemisphere - Wind Speed (mph) vs. Latitude Linear Regression\")\n",
    "plt.xlabel(\"Latitude\")\n",
    "plt.ylabel(\"Wind Speed (mph)\")\n",
    "\n",
    "print(f\"The r-squared is: {rvalue**2}\")\n",
    "plt.savefig(\"Images/Northern Hemisphere - Wind Speed (mph) vs. Latitude Linear Regression.png\", bbox_inches = \"tight\")\n",
    "plt.show()"
   ]
  },
  {
   "cell_type": "markdown",
   "metadata": {},
   "source": [
    "####  Southern Hemisphere - Wind Speed (mph) vs. Latitude Linear Regression"
   ]
  },
  {
   "cell_type": "code",
   "execution_count": 235,
   "metadata": {},
   "outputs": [
    {
     "name": "stdout",
     "output_type": "stream",
     "text": [
      "The correlation between Latitude and Wind Speed(mph) is -0.14\n",
      "The r-squared is: 0.019538377636807432\n"
     ]
    },
    {
     "data": {
      "image/png": "[encoded data removed]",
      "text/plain": [
       "<Figure size 432x288 with 1 Axes>"
      ]
     },
     "metadata": {
      "needs_background": "light"
     },
     "output_type": "display_data"
    }
   ],
   "source": [
    "correlation=round(st.pearsonr(southern_df[\"Lat\"], southern_df[\"Wind Speed\"])[0],2)\n",
    "print(f\"The correlation between Latitude and Wind Speed(mph) is {correlation}\")\n",
    "\n",
    "x_values = southern_df[\"Lat\"]\n",
    "y_values = southern_df[\"Wind Speed\"]\n",
    "\n",
    "(slope, intercept, rvalue, pvalue, stderr) = linregress(x_values, y_values)\n",
    "regress_values = x_values * slope + intercept\n",
    "\n",
    "line_eq = \"y = \" + str(round(slope,2)) + \"x + \" + str(round(intercept,2))\n",
    "\n",
    "plt.scatter(x_values,y_values)\n",
    "plt.plot(x_values,regress_values,\"r-\")\n",
    "plt.annotate(line_eq,(6,10),fontsize=14,color=\"red\")\n",
    "plt.title(\"Southern Hemisphere - Wind Speed (mph) vs. Latitude Linear Regression\")\n",
    "plt.xlabel(\"Latitude\")\n",
    "plt.ylabel(\"Wind Speed (mph)\")\n",
    "\n",
    "print(f\"The r-squared is: {rvalue**2}\")\n",
    "plt.savefig(\"Images/Southern Hemisphere - Wind Speed (mph) vs. Latitude Linear Regression.png\", bbox_inches = \"tight\")\n",
    "plt.show()"
   ]
  }
 ],
 "metadata": {
  "anaconda-cloud": {},
  "kernel_info": {
   "name": "python3"
  },
  "kernelspec": {
   "display_name": "Python 3",
   "language": "python",
   "name": "python3"
  },
  "language_info": {
   "codemirror_mode": {
    "name": "ipython",
    "version": 3
   },
   "file_extension": ".py",
   "mimetype": "text/x-python",
   "name": "python",
   "nbconvert_exporter": "python",
   "pygments_lexer": "ipython3",
   "version": "3.8.5"
  },
  "latex_envs": {
   "LaTeX_envs_menu_present": true,
   "autoclose": false,
   "autocomplete": true,
   "bibliofile": "biblio.bib",
   "cite_by": "apalike",
   "current_citInitial": 1,
   "eqLabelWithNumbers": true,
   "eqNumInitial": 1,
   "hotkeys": {
    "equation": "Ctrl-E",
    "itemize": "Ctrl-I"
   },
   "labels_anchors": false,
   "latex_user_defs": false,
   "report_style_numbering": false,
   "user_envs_cfg": false
  },
  "nteract": {
   "version": "0.12.3"
  }
 },
 "nbformat": 4,
 "nbformat_minor": 2
}
